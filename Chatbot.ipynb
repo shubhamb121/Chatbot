{
  "nbformat": 4,
  "nbformat_minor": 0,
  "metadata": {
    "colab": {
      "name": "Chatbot.ipynb",
      "provenance": [],
      "collapsed_sections": [],
      "authorship_tag": "ABX9TyOl4tav74FvfcVL5Fy+Hj5G",
      "include_colab_link": true
    },
    "kernelspec": {
      "name": "python3",
      "display_name": "Python 3"
    }
  },
  "cells": [
    {
      "cell_type": "markdown",
      "metadata": {
        "id": "view-in-github",
        "colab_type": "text"
      },
      "source": [
        "<a href=\"https://colab.research.google.com/github/shubhamb121/Chatbot/blob/main/Chatbot.ipynb\" target=\"_parent\"><img src=\"https://colab.research.google.com/assets/colab-badge.svg\" alt=\"Open In Colab\"/></a>"
      ]
    },
    {
      "cell_type": "markdown",
      "metadata": {
        "id": "wx4o7acBBLT_"
      },
      "source": [
        "# Chatbots"
      ]
    },
    {
      "cell_type": "markdown",
      "metadata": {
        "id": "nFeS6O0EBYzQ"
      },
      "source": [
        "A chatbot (also known as a talkbot, chatterbot, Bot, ) is a computer program or an artificial intelligence which conducts a conversation via auditory or textual methods. Such programs are often designed to convincingly simulate how a human would behave as a conversational partner, thereby passing the Turing test."
      ]
    },
    {
      "cell_type": "markdown",
      "metadata": {
        "id": "gqapjBUjCkrL"
      },
      "source": [
        "# **What do Chatbots do?**\n",
        " "
      ]
    },
    {
      "cell_type": "markdown",
      "metadata": {
        "id": "NIYCLjXSCEeN"
      },
      "source": [
        "Chatbots are relevant because of the following reasons:\n",
        "\n",
        "1.They make available to people, the right information at the right time, right place and most importantly only when they want.\n",
        "2.About 90% of our time on mobile is spent on email and messaging platforms. So it makes sense to engage customers using chatbots instead of diverting them to a website or a mobile app."
      ]
    },
    {
      "cell_type": "markdown",
      "metadata": {
        "id": "QBzXqgbwC5nG"
      },
      "source": [
        "# Type of Bots\n",
        "\n",
        "*   List item\n",
        "*   List item\n",
        "\n"
      ]
    },
    {
      "cell_type": "markdown",
      "metadata": {
        "id": "PILR3XJ_DLnm"
      },
      "source": [
        "\n",
        "\n",
        "> Indented block\n",
        "\n",
        "\n",
        "\n",
        "1.   **Rule-Based Chatbots**: This variety of bots answer questions based on some simple rules that they are trained on.\n",
        "2.  **Self-Learning Chatbots**: This variety of bots rely on Artificial Intelligence(AI) & Machine Learning(MI) technologies to converse with users.\n",
        "\n"
      ]
    },
    {
      "cell_type": "markdown",
      "metadata": {
        "id": "Hvyzor00Dp3G"
      },
      "source": [
        "# Self-learning Chatbots "
      ]
    },
    {
      "cell_type": "markdown",
      "metadata": {
        "id": "pQ-Iho4fD5_i"
      },
      "source": [
        "\n",
        "1.Retrieval based\n",
        "\n",
        "Retrieval based bots work on the principle of directed flows or graphs.The bot is trained to rank the best response from a finite set of predefined responses.\n",
        "\n",
        "2.Generative\n",
        "\n",
        "Another method of building chatbots is using a generative model. These chatbots are not built with predefined responses. Instead, they are trained using a large number of previous conversations, based upon which responses to the user are generated. They require a very large amount of conversational data to train.\n",
        "\n"
      ]
    },
    {
      "cell_type": "markdown",
      "metadata": {
        "id": "0ILu9sQ7EllV"
      },
      "source": [
        "# Features And Libraries Used"
      ]
    },
    {
      "cell_type": "markdown",
      "metadata": {
        "id": "-RIITzpxFcyL"
      },
      "source": [
        "**Natural Language Processing(NLP) using NLTK**\n",
        "\n",
        "Natural language processing (NLP) is the ability of a computer program to understand human language as it is spoken. NLP is a component of artificial intelligence (AI)."
      ]
    },
    {
      "cell_type": "markdown",
      "metadata": {
        "id": "Pzy-tivcFw8M"
      },
      "source": [
        "**Natural Language Toolkit(NLTK)**\n",
        "\n",
        "NLTK is a leading platform for building Python programs to work with human language data. It provides easy-to-use interfaces to over 50 corpora and lexical resources such as WordNet, along with a suite of text processing libraries for classification, tokenization, stemming, tagging, parsing, and semantic reasoning, wrappers for industrial-strength NLP libraries, and an active discussion forum."
      ]
    },
    {
      "cell_type": "markdown",
      "metadata": {
        "id": "Bo9N3HiuF6NE"
      },
      "source": [
        "**TF-IDF**\n",
        "\n",
        "We will compute the Term Frequency-Inverse Document Frequency (TF-IDF) vectors for each document. This will give you a matrix where each column represents a word in the overview vocabulary (all the words that appear in at least one document).\n",
        "\n",
        "TF-IDF is the statistical method of evaluating the significance of a word in a given document.\n",
        "\n",
        "TF — Term frequency(tf) refers to how many times a given term appears in a document.\n",
        "\n",
        "IDF — Inverse document frequency(idf) measures the weight of the word in the document, i.e if the word is common or rare in the entire document.\n",
        "\n",
        "The TF-IDF intuition follows that the terms that appear frequently in a document are less important than terms that rarely appear."
      ]
    },
    {
      "cell_type": "markdown",
      "metadata": {
        "id": "3yEp-OraGDEy"
      },
      "source": [
        "**Cosine similarity**\n",
        "\n",
        "Now we have this matrix, we can easily compute a similarity score. There are several options to do this; such as the Euclidean, the Pearson, and the cosine similarity scores. Again, there is no right answer to which score is the best.\n",
        "\n",
        "We will be using the cosine similarity to calculate a numeric quantity that denotes the similarity between the two words"
      ]
    },
    {
      "cell_type": "markdown",
      "metadata": {
        "id": "k3w2e8cXFX4X"
      },
      "source": [
        "# Importing all the required libraries"
      ]
    },
    {
      "cell_type": "code",
      "metadata": {
        "id": "8uOsOUBHx7vI",
        "colab": {
          "base_uri": "https://localhost:8080/"
        },
        "outputId": "7a151095-b6c0-474e-d1e9-c54e6d2f0f6d"
      },
      "source": [
        "import nltk\n",
        "import random\n",
        "import string\n",
        "import re, string, unicodedata\n",
        "from nltk.corpus import wordnet as wn\n",
        "from nltk.stem.wordnet import WordNetLemmatizer\n",
        "from collections import defaultdict\n",
        "import warnings\n",
        "warnings.filterwarnings(\"ignore\")\n",
        "nltk.download('punkt') \n",
        "nltk.download('wordnet')\n",
        "from sklearn.feature_extraction.text import TfidfVectorizer\n",
        "from sklearn.metrics.pairwise import cosine_similarity, linear_kernel"
      ],
      "execution_count": null,
      "outputs": [
        {
          "output_type": "stream",
          "text": [
            "[nltk_data] Downloading package punkt to /root/nltk_data...\n",
            "[nltk_data]   Unzipping tokenizers/punkt.zip.\n",
            "[nltk_data] Downloading package wordnet to /root/nltk_data...\n",
            "[nltk_data]   Unzipping corpora/wordnet.zip.\n"
          ],
          "name": "stdout"
        }
      ]
    },
    {
      "cell_type": "markdown",
      "metadata": {
        "id": "HIgwysRV3iut"
      },
      "source": [
        "# Installing wikipedia python library"
      ]
    },
    {
      "cell_type": "code",
      "metadata": {
        "id": "zt_tGCRG3Nqo",
        "colab": {
          "base_uri": "https://localhost:8080/"
        },
        "outputId": "a5771541-49b4-4ef3-bc62-8510d3c4d485"
      },
      "source": [
        "!pip install wikipedia"
      ],
      "execution_count": null,
      "outputs": [
        {
          "output_type": "stream",
          "text": [
            "Collecting wikipedia\n",
            "  Downloading https://files.pythonhosted.org/packages/67/35/25e68fbc99e672127cc6fbb14b8ec1ba3dfef035bf1e4c90f78f24a80b7d/wikipedia-1.4.0.tar.gz\n",
            "Requirement already satisfied: beautifulsoup4 in /usr/local/lib/python3.7/dist-packages (from wikipedia) (4.6.3)\n",
            "Requirement already satisfied: requests<3.0.0,>=2.0.0 in /usr/local/lib/python3.7/dist-packages (from wikipedia) (2.23.0)\n",
            "Requirement already satisfied: chardet<4,>=3.0.2 in /usr/local/lib/python3.7/dist-packages (from requests<3.0.0,>=2.0.0->wikipedia) (3.0.4)\n",
            "Requirement already satisfied: certifi>=2017.4.17 in /usr/local/lib/python3.7/dist-packages (from requests<3.0.0,>=2.0.0->wikipedia) (2020.12.5)\n",
            "Requirement already satisfied: idna<3,>=2.5 in /usr/local/lib/python3.7/dist-packages (from requests<3.0.0,>=2.0.0->wikipedia) (2.10)\n",
            "Requirement already satisfied: urllib3!=1.25.0,!=1.25.1,<1.26,>=1.21.1 in /usr/local/lib/python3.7/dist-packages (from requests<3.0.0,>=2.0.0->wikipedia) (1.24.3)\n",
            "Building wheels for collected packages: wikipedia\n",
            "  Building wheel for wikipedia (setup.py) ... \u001b[?25l\u001b[?25hdone\n",
            "  Created wheel for wikipedia: filename=wikipedia-1.4.0-cp37-none-any.whl size=11686 sha256=f32154222c7d9d7d21a396f4f0ecdb20fe75a680a8d1e0f2c8c0018a2098428b\n",
            "  Stored in directory: /root/.cache/pip/wheels/87/2a/18/4e471fd96d12114d16fe4a446d00c3b38fb9efcb744bd31f4a\n",
            "Successfully built wikipedia\n",
            "Installing collected packages: wikipedia\n",
            "Successfully installed wikipedia-1.4.0\n"
          ],
          "name": "stdout"
        }
      ]
    },
    {
      "cell_type": "markdown",
      "metadata": {
        "id": "EMDEO6rH4HBU"
      },
      "source": [
        ""
      ]
    },
    {
      "cell_type": "markdown",
      "metadata": {
        "id": "zLjLY2wK4SrT"
      },
      "source": [
        "### **Importing wikipedia**"
      ]
    },
    {
      "cell_type": "code",
      "metadata": {
        "id": "l9AjQLkP4X25"
      },
      "source": [
        "import wikipedia as wk"
      ],
      "execution_count": null,
      "outputs": []
    },
    {
      "cell_type": "markdown",
      "metadata": {
        "id": "L1p_Ok3VyGGg"
      },
      "source": [
        "# Seeing working directory and dataset file path"
      ]
    },
    {
      "cell_type": "code",
      "metadata": {
        "id": "66BHIoj6yWL6",
        "colab": {
          "base_uri": "https://localhost:8080/"
        },
        "outputId": "ebd1d61f-73d1-48a3-88fd-6192b3e5cb20"
      },
      "source": [
        "!pwd\n"
      ],
      "execution_count": null,
      "outputs": [
        {
          "output_type": "stream",
          "text": [
            "/content\n"
          ],
          "name": "stdout"
        }
      ]
    },
    {
      "cell_type": "code",
      "metadata": {
        "id": "oQv5ZR8wynBB",
        "colab": {
          "base_uri": "https://localhost:8080/"
        },
        "outputId": "31ab3586-4967-4f13-9bf2-99c91d1eb144"
      },
      "source": [
        "! ls ../../../\n",
        "\n"
      ],
      "execution_count": null,
      "outputs": [
        {
          "output_type": "stream",
          "text": [
            "bin\t     content  etc   lib32  mnt\t root  srv\t\t  tmp\t var\n",
            "boot\t     datalab  home  lib64  opt\t run   sys\t\t  tools\n",
            "chatbot.txt  dev      lib   media  proc  sbin  tensorflow-1.15.2  usr\n"
          ],
          "name": "stdout"
        }
      ]
    },
    {
      "cell_type": "markdown",
      "metadata": {
        "id": "VGPxVk5hxtOK"
      },
      "source": [
        "# Loading dataset and converting text into lowercase."
      ]
    },
    {
      "cell_type": "code",
      "metadata": {
        "id": "4ezh4yfEyGrp"
      },
      "source": [
        "data = open('../../chatbot.txt','r',errors = 'ignore')\n",
        "raw = data.read()\n",
        "raw = raw.lower()"
      ],
      "execution_count": null,
      "outputs": []
    },
    {
      "cell_type": "markdown",
      "metadata": {
        "id": "QaXy_1osy8gV"
      },
      "source": [
        "### **Checking what our dataset looks like**"
      ]
    },
    {
      "cell_type": "code",
      "metadata": {
        "id": "Nj18iSklzYA1",
        "colab": {
          "base_uri": "https://localhost:8080/",
          "height": 171
        },
        "outputId": "fdd83504-dab6-44c7-fb2a-68ecae818f6b"
      },
      "source": [
        "raw[:1000]"
      ],
      "execution_count": null,
      "outputs": [
        {
          "output_type": "execute_result",
          "data": {
            "application/vnd.google.colaboratory.intrinsic+json": {
              "type": "string"
            },
            "text/plain": [
              "'human resource management is the process of recruiting, selecting, inducting employees, providing orientation, imparting training and development, appraising the performance of employees, deciding compensation and providing benefits, motivating employees, maintaining proper relations with employees and their trade unions, ensuring employees safety, welfare and healthy measures in compliance with labour laws of the land and finally following the orders / judgements of the concern high court and supreme court, if any.\\nhuman resource management involves management functions like planning, organizing, directing and controlling\\nit involves procurement, development, maintenance of human resource\\nit helps to achieve individual, organizational and social objectives\\nhuman resource management is a multidisciplinary subject. it includes the study of management, psychology, communication, economics and sociology.\\nit involves team spirit and team work.\\nit is a continuous process.\\nhuman resource man'"
            ]
          },
          "metadata": {
            "tags": []
          },
          "execution_count": 9
        }
      ]
    },
    {
      "cell_type": "markdown",
      "metadata": {
        "id": "I2hdTXojQfb-"
      },
      "source": [
        "TEXT SUMMARIZER"
      ]
    },
    {
      "cell_type": "code",
      "metadata": {
        "id": "g1sbaEWI-9N9"
      },
      "source": [
        "def summarizer():\n",
        "  from collections import Counter \n",
        "  from string import punctuation\n",
        "  from sklearn.feature_extraction.stop_words import ENGLISH_STOP_WORDS as stop_words\n",
        "  \n",
        "  def tokenizer(s):\n",
        "    tokens = []\n",
        "    for word in s.split(' '):\n",
        "        tokens.append(word.strip().lower())\n",
        "    return tokens\n",
        "\n",
        "  def sent_tokenizer(s):\n",
        "    sents = []\n",
        "    for sent in s.split('.'):\n",
        "        sents.append(sent.strip())\n",
        "    return sents\n",
        "\n",
        "  tokens = tokenizer(raw)\n",
        "  sents = sent_tokenizer(raw)\n",
        "\n",
        "  def count_words(tokens):\n",
        "    word_counts = {}\n",
        "\n",
        "    for token in tokens:\n",
        "        if token not in stop_words and token not in punctuation:\n",
        "            if token not in word_counts.keys():\n",
        "                word_counts[token] = 1\n",
        "            else:\n",
        "                word_counts[token] += 1\n",
        "    return word_counts\n",
        "\n",
        "  word_counts = count_words(tokens)\n",
        "\n",
        "  def word_freq_distribution(word_counts):\n",
        "    freq_dist = {}\n",
        "    max_freq = max(word_counts.values())\n",
        "    for word in word_counts.keys():  \n",
        "        freq_dist[word] = (word_counts[word]/max_freq)\n",
        "    return freq_dist\n",
        "\n",
        "  freq_dist = word_freq_distribution(word_counts)\n",
        "\n",
        "  def score_sentences(sents, freq_dist, max_len=100):\n",
        "      sent_scores = {}  \n",
        "      for sent in sents:\n",
        "          words = sent.split(' ')\n",
        "          for word in words:\n",
        "              if word.lower() in freq_dist.keys():\n",
        "                  if len(words) < max_len:\n",
        "                      if sent not in sent_scores.keys():\n",
        "                          sent_scores[sent] = freq_dist[word.lower()]\n",
        "                      else:\n",
        "                          sent_scores[sent] += freq_dist[word.lower()]\n",
        "      return sent_scores\n",
        "\n",
        "  sent_scores = score_sentences(sents, freq_dist)\n",
        "\n",
        "  def summarize(sent_scores, k):\n",
        "      top_sents = Counter(sent_scores) \n",
        "      summary = ''\n",
        "      scores = []\n",
        "      \n",
        "      top = top_sents.most_common(k)\n",
        "      for t in top: \n",
        "          summary += t[0].strip()+'. '\n",
        "          scores.append((t[1], t[0]))\n",
        "      return summary[:-1], scores\n",
        "\n",
        "  summary, summary_sent_scores = summarize(sent_scores, 20)\n",
        "\n",
        "  summary2 = \"\"\n",
        "  for x in summary:\n",
        "    if x != \"\\n\\n\":\n",
        "      summary2 += x\n",
        "\n",
        "  print (summary2)\n"
      ],
      "execution_count": null,
      "outputs": []
    },
    {
      "cell_type": "markdown",
      "metadata": {
        "id": "H2CMXJbx0A4X"
      },
      "source": [
        "# Data Preprocessing"
      ]
    },
    {
      "cell_type": "markdown",
      "metadata": {
        "id": "_vug-99h5OVl"
      },
      "source": [
        " **Converting data into a list of sentences.**"
      ]
    },
    {
      "cell_type": "code",
      "metadata": {
        "id": "gsCJSmSAK6bd"
      },
      "source": [
        "sent_tokens = nltk.sent_tokenize(raw)"
      ],
      "execution_count": null,
      "outputs": []
    },
    {
      "cell_type": "markdown",
      "metadata": {
        "id": "qH_ltaDs5_o7"
      },
      "source": [
        " **Normalization of Data**"
      ]
    },
    {
      "cell_type": "markdown",
      "metadata": {
        "id": "YhDWWzqG6ViL"
      },
      "source": [
        " Normalization is a process that converts a list of words to a more uniform \n",
        "\n",
        "*   List item\n",
        "*   List item\n",
        "\n",
        "sequence. This is useful in preparing the text for later processing"
      ]
    },
    {
      "cell_type": "markdown",
      "metadata": {
        "id": "uAS_e7TX6l4v"
      },
      "source": [
        "This step involves **word tokenization, Removing ASCII values, Removing tags of any kind, Part-of-speech tagging, and Lemmatization**."
      ]
    },
    {
      "cell_type": "code",
      "metadata": {
        "id": "0NCqbYT08So1"
      },
      "source": [
        "def Normalize(text):\n",
        "    remove_punct_dict = dict((ord(punct), None) for punct in string.punctuation)\n",
        "    #word tokenization\n",
        "    word_token = nltk.word_tokenize(text.lower().translate(remove_punct_dict))\n",
        "    \n",
        "    #remove ascii\n",
        "    new_words = []\n",
        "    for word in word_token:\n",
        "        new_word = unicodedata.normalize('NFKD', word).encode('ascii', 'ignore').decode('utf-8', 'ignore')\n",
        "        new_words.append(new_word)\n",
        "    \n",
        "    #Remove tags\n",
        "    rmv = []\n",
        "    for w in new_words:\n",
        "        text=re.sub(\"&lt;/?.*?&gt;\",\"&lt;&gt;\",w)\n",
        "        rmv.append(text)\n",
        "        \n",
        "    #pos tagging and lemmatization\n",
        "    tag_map = defaultdict(lambda : wn.NOUN)\n",
        "    tag_map['J'] = wn.ADJ\n",
        "    tag_map['V'] = wn.VERB\n",
        "    tag_map['R'] = wn.ADV\n",
        "    lmtzr = WordNetLemmatizer()\n",
        "    lemma_list = []\n",
        "    rmv = [i for i in rmv if i]\n",
        "    for token, tag in nltk.pos_tag(rmv):\n",
        "        lemma = lmtzr.lemmatize(token, tag_map[tag[0]])\n",
        "        lemma_list.append(lemma)\n",
        "    return lemma_list"
      ],
      "execution_count": null,
      "outputs": []
    },
    {
      "cell_type": "markdown",
      "metadata": {
        "id": "FwEXUzGb6_1n"
      },
      "source": [
        "# Defining greetings"
      ]
    },
    {
      "cell_type": "code",
      "metadata": {
        "id": "JLingPU89DpV"
      },
      "source": [
        "welcome_input = (\"hello\", \"hi\", \"greetings\", \"sup\", \"what's up\",\"hey\",)\n",
        "welcome_response = [\"hi\", \"hey\",  \"hi there\", \"hello\", \"I am glad! You are talking to me\"]\n",
        "def welcome(user_response):\n",
        "    for word in user_response.split():\n",
        "        if word.lower() in welcome_input:\n",
        "            return random.choice(welcome_response)"
      ],
      "execution_count": null,
      "outputs": []
    },
    {
      "cell_type": "markdown",
      "metadata": {
        "id": "TE045t6b7YiX"
      },
      "source": [
        "# Generate chatbot response"
      ]
    },
    {
      "cell_type": "markdown",
      "metadata": {
        "id": "UUcj7OmB8jki"
      },
      "source": [
        "To generate a response from our chatbot for input questions, the concept of **document similarity** will be used.  **TFidf vectorizer** is used to convert a collection of raw documents to a matrix of TF-IDF features and to find the similarity between words entered by the user and the words in the dataset we will use **cosine similarity**."
      ]
    },
    {
      "cell_type": "markdown",
      "metadata": {
        "id": "s9kyDpSm95c-"
      },
      "source": [
        " Defining a function **generateResponse()** which searches the user’s input words and returns one of several possible responses. If it doesn’t find the input matching any of the keywords then instead of giving just an error message you can ask your chatbot to search **Wikipedia** for you. Just type “**tell me about any_keyword**”. Now if it doesn't find anything in Wikipedia the chatbot will generate a message “No content has been found”."
      ]
    },
    {
      "cell_type": "code",
      "metadata": {
        "id": "6gs6IpVr9KBG"
      },
      "source": [
        "def generateResponse(user_response):\n",
        "    robo_response=''\n",
        "    sent_tokens.append(user_response)\n",
        "    TfidfVec = TfidfVectorizer(tokenizer=Normalize, stop_words='english')\n",
        "    tfidf = TfidfVec.fit_transform(sent_tokens)\n",
        "    #vals = cosine_similarity(tfidf[-1], tfidf)\n",
        "    vals = linear_kernel(tfidf[-1], tfidf)\n",
        "    idx=vals.argsort()[0][-2]\n",
        "    flat = vals.flatten()\n",
        "    flat.sort()\n",
        "    req_tfidf = flat[-2]\n",
        "    if(req_tfidf==0) or \"tell me about\" in user_response:\n",
        "        print(\"Checking Wikipedia\")\n",
        "        if user_response:\n",
        "            robo_response = wikipedia_data(user_response)\n",
        "            return robo_response\n",
        "    else:\n",
        "        robo_response = robo_response+sent_tokens[idx]\n",
        "        return robo_response#wikipedia search\n",
        "def wikipedia_data(input):\n",
        "    reg_ex = re.search('tell me about (.*)', input)\n",
        "    try:\n",
        "        if reg_ex:\n",
        "            topic = reg_ex.group(1)\n",
        "            wiki = wk.summary(topic, sentences = 3)\n",
        "            return wiki\n",
        "    except Exception as e:\n",
        "            print(\"No content has been found\")"
      ],
      "execution_count": null,
      "outputs": []
    },
    {
      "cell_type": "code",
      "metadata": {
        "id": "Q81ws87M9kNR",
        "colab": {
          "base_uri": "https://localhost:8080/"
        },
        "outputId": "d9f08272-6481-43fa-9b00-7f6d81713856"
      },
      "source": [
        "nltk.download('averaged_perceptron_tagger')"
      ],
      "execution_count": null,
      "outputs": [
        {
          "output_type": "stream",
          "text": [
            "[nltk_data] Downloading package averaged_perceptron_tagger to\n",
            "[nltk_data]     /root/nltk_data...\n",
            "[nltk_data]   Unzipping taggers/averaged_perceptron_tagger.zip.\n"
          ],
          "name": "stdout"
        },
        {
          "output_type": "execute_result",
          "data": {
            "text/plain": [
              "True"
            ]
          },
          "metadata": {
            "tags": []
          },
          "execution_count": 15
        }
      ]
    },
    {
      "cell_type": "markdown",
      "metadata": {
        "id": "ESDHz9SrAaZH"
      },
      "source": [
        "Defining the chatbot user conversation handler.The program will exit if you type Bye, shutdown, exit or quit."
      ]
    },
    {
      "cell_type": "code",
      "metadata": {
        "colab": {
          "base_uri": "https://localhost:8080/",
          "height": 1000
        },
        "id": "Lp01xolM-fF2",
        "outputId": "9526b4a6-825f-479f-8b8a-488d611e5a61"
      },
      "source": [
        "flag=True\n",
        "print(\"My name is Chatterbot and I'm a chatbot. If you want to exit, type Bye!\")\n",
        "while(flag==True):\n",
        "    user_response = input()\n",
        "    user_response=user_response.lower()\n",
        "    if(user_response not in ['bye','shutdown','exit', 'quit']):\n",
        "        if(user_response=='thanks' or user_response=='thank you' ):\n",
        "            flag=False\n",
        "            print(\"Chatterbot : You are welcome..\")\n",
        "        else:\n",
        "            if(welcome(user_response)!=None):\n",
        "                print(\"Chatterbot : \"+welcome(user_response))\n",
        "            else:\n",
        "                print(\"Chatterbot : \",end=\"\")\n",
        "                if 'summarize' in user_response:\n",
        "                  summarizer()\n",
        "                else:\n",
        "                  print(generateResponse(user_response))\n",
        "                  sent_tokens.remove(user_response)\n",
        "    else:\n",
        "        flag=False\n",
        "        print(\"Chatterbot : Bye!!! \")"
      ],
      "execution_count": null,
      "outputs": [
        {
          "output_type": "stream",
          "text": [
            "My name is Chatterbot and I'm a chatbot. If you want to exit, type Bye!\n",
            "what is maternity leave\n",
            "Chatterbot : maternity leave\n",
            "according to the section 5 of the maternity benefit act 1961, it is woman employee right to claim for maternity leave for 26 weeks for 2. such woman employee can apply maternity leave just eight weeks before the date of are expected delivery.\n",
            "what is provident fund ?\n",
            "Chatterbot : it is the duty of the employee to contribute 12% from his salary towards provident fund and it is it is the duty of employer or an organisation having 20 or more employees, to contribute equally that is 12% of his salary, according to the employees' provident fund and miscellaneous provisions act 1952.\n",
            "\n",
            "according to the present rules, if an employer becomes unemployed for one month, such employee can with the 70% of amount from the provident fund.\n",
            "Please summarize\n",
            "Chatterbot : human resource management as a department in an organisation handles all aspects of employees and has various functions like  human resource planning, conducting job analysis, recruitment and conducting job interviews, selection of human resources, orienting , training, compensating,providing benefits and incentives, appraising, retaining,career planning, quality of work life, employee discipline,  black out sexual harassments, human resource auditing, maintenance of industrial relationship, looking after welfare of employees and safety issues , communicating with all employees at all levels and maintaining awareness of and compliance with local, state and federal labor laws. core responsibilities of human resource management\n",
            "planning for staffing needs\n",
            "employee recruitment and selection\n",
            "employee compensation and benefits\n",
            "employee training and performance evaluation\n",
            "\n",
            "what is the role of a human resource officer?\n",
            "\n",
            "\n",
            "he/she is responsible for formulating and designing of human resource policies in compliance with labour laws and sees all hr related activities staring from hiring to firing of an employees in an organisation. human resource management definitions by authors\n",
            "\n",
            "\n",
            "\n",
            "many great scholars had defined human resource management in different ways and with different words, but the core meaning of the human resource management deals with how to manage people or employees in the organisation. human resource auditor does a complete human resources checkup and verification of employee records & files, compliance of hr procedures and policies with employment laws, employee handbook, orientation, training of employees, performance management, employee compensation and payroll and employee termination procedures. maintaining hr records in accordance with employment laws and oranisational needs is the basic function of human resource management, conducting research for identification of hr issues and find suitable solutions, doing human resource audit by systematic verification strategies, policies, procedures, documentation, structure, systems and practices with respect to the organization’s human resource management. it is also the duty of human resource management to provide welfare measures like pure water drinking facilities, restrooms, lunchroom in an organisation having more than 150 employees, minimum medical aid facility for 150 employees, maintenance of an ambulance in an organisation having more than 500 employees, canteen in an organisation having more than 250 employees, crèches for children in the organisation having more than 30 women employees and sitting facilities for employees wherever it is required and possible. the following are the most outsourced hr activities; legal advice and support, employee payroll, pensions, training and development, recruitment, employee assistance, compensation and benefits, outplacement is, human resource information systems, employee relations, policy-making, strategic partnerships, appraisal of employees and resource planning. human resource management is the process of recruiting, selecting, inducting employees, providing orientation, imparting training and development, appraising the performance of employees, deciding compensation and providing benefits, motivating employees, maintaining proper relations with employees and their trade unions, ensuring employees safety, welfare and healthy measures in compliance with labour laws of the land and finally following the orders / judgements of the concern high court and supreme court, if any. father of human resource management\n",
            "\n",
            "george elton mayo\n",
            "(26 december 1880 – 7 september 1949)\n",
            "what is the purpose of human resource management?\n",
            "\n",
            "the purpose of the human resource management is to make the job and deal with the job holder (employee). human resource managers can adopt various methods for assessing the performance of the employees so as to take decisions with regard to compensating and rewarding employees, training of employees if performance is poor and it would take corrective actions on employees whose performance is poor. who works for human resource management? (supporting staff)\n",
            "\n",
            "\n",
            "strategic level\n",
            "\n",
            "chief human resource officer (chro) is a corporate level officer, responsible for formulating and executing human resource strategy in match with overall organization's plan and strategic direction of the organization, particularly in the areas of succession planning, talent management, change management, executive compensation, organizational performance. giving each member a specific tasks to finish overall objectives of the job given to an employee is the duty of the human resource manager, besides it also to the duty of human resource manager to define task clearly before entrusting job to an employee. advantages of job rotation of an employee are eliminate boredom of an employee, encourage development, give employees a break from strenuous job duties, helps hr manager identify where employee work best and gives hr manager a backup plan if an employee leaves. being a spokesman of employees and organization: it is the responsibility of human resource manager to be as, spokesman,  negotiator and middlemen between management and employees for smoothening the flow of communication of management decisions from top-level to bottom level and vice versa, for cushioning conflicts if any by misunderstandings or misinterpretation and to establish healthy relations and good culture within the organisation. what matters & motivates most for employees at work?\n",
            "\n",
            "top 10 global employees preferences\n",
            "job security & stability\n",
            "financial compensation\n",
            "work appreciation by employer\n",
            "interesting work\n",
            "good & healthy relationship with colleagues\n",
            "good work-life balance\n",
            "good relationship with superiors\n",
            "learning & training opportunities\n",
            "career development\n",
            "financial stability of employer\n",
            "job rotation is the human resource management technique in which employee is  moved between two or more jobs in a systematic and planned manner. human resource management involves management functions like planning, organizing, directing and controlling\n",
            "it involves procurement, development, maintenance of human resource\n",
            "it helps to achieve individual, organizational and social objectives\n",
            "human resource management is a multidisciplinary subject. evolution of human resource management\n",
            "\n",
            "\n",
            "human resource management is evolved form the personnel management which was erstwhile management system which used to manage employees. who is responsible for human resource management?\n",
            "human resource officer or manager is responsible for human resource management in the organization. indeed getting work done to others is an art which every human resource manager should possess, for which employee motivation by the human resource management influences and matters a lot. motivating subordinates to strive for better performance by way of providing employee recognition, rewards, intrinsic benefits, paid vacations, increments in salary, gifts, any social security benefits to employees and their family members is one of the functions of human resource management.\n",
            "tell me about India\n",
            "Chatterbot : Checking Wikipedia\n",
            "No content has been found\n",
            "None\n",
            "tell me about human resource management\n",
            "Chatterbot : Checking Wikipedia\n",
            "Human resource management (HRM or HR) is the strategic approach to the effective management of people in a company or organization such that they help their business gain a competitive advantage. It is designed to maximize employee performance in service of an employer's strategic objectives. Human resource management is primarily concerned with the management of people within organizations, focusing on policies and systems.\n"
          ],
          "name": "stdout"
        },
        {
          "output_type": "error",
          "ename": "KeyboardInterrupt",
          "evalue": "ignored",
          "traceback": [
            "\u001b[0;31m---------------------------------------------------------------------------\u001b[0m",
            "\u001b[0;31mKeyboardInterrupt\u001b[0m                         Traceback (most recent call last)",
            "\u001b[0;32m/usr/local/lib/python3.7/dist-packages/ipykernel/kernelbase.py\u001b[0m in \u001b[0;36m_input_request\u001b[0;34m(self, prompt, ident, parent, password)\u001b[0m\n\u001b[1;32m    728\u001b[0m             \u001b[0;32mtry\u001b[0m\u001b[0;34m:\u001b[0m\u001b[0;34m\u001b[0m\u001b[0;34m\u001b[0m\u001b[0m\n\u001b[0;32m--> 729\u001b[0;31m                 \u001b[0mident\u001b[0m\u001b[0;34m,\u001b[0m \u001b[0mreply\u001b[0m \u001b[0;34m=\u001b[0m \u001b[0mself\u001b[0m\u001b[0;34m.\u001b[0m\u001b[0msession\u001b[0m\u001b[0;34m.\u001b[0m\u001b[0mrecv\u001b[0m\u001b[0;34m(\u001b[0m\u001b[0mself\u001b[0m\u001b[0;34m.\u001b[0m\u001b[0mstdin_socket\u001b[0m\u001b[0;34m,\u001b[0m \u001b[0;36m0\u001b[0m\u001b[0;34m)\u001b[0m\u001b[0;34m\u001b[0m\u001b[0;34m\u001b[0m\u001b[0m\n\u001b[0m\u001b[1;32m    730\u001b[0m             \u001b[0;32mexcept\u001b[0m \u001b[0mException\u001b[0m\u001b[0;34m:\u001b[0m\u001b[0;34m\u001b[0m\u001b[0;34m\u001b[0m\u001b[0m\n",
            "\u001b[0;32m/usr/local/lib/python3.7/dist-packages/jupyter_client/session.py\u001b[0m in \u001b[0;36mrecv\u001b[0;34m(self, socket, mode, content, copy)\u001b[0m\n\u001b[1;32m    802\u001b[0m         \u001b[0;32mtry\u001b[0m\u001b[0;34m:\u001b[0m\u001b[0;34m\u001b[0m\u001b[0;34m\u001b[0m\u001b[0m\n\u001b[0;32m--> 803\u001b[0;31m             \u001b[0mmsg_list\u001b[0m \u001b[0;34m=\u001b[0m \u001b[0msocket\u001b[0m\u001b[0;34m.\u001b[0m\u001b[0mrecv_multipart\u001b[0m\u001b[0;34m(\u001b[0m\u001b[0mmode\u001b[0m\u001b[0;34m,\u001b[0m \u001b[0mcopy\u001b[0m\u001b[0;34m=\u001b[0m\u001b[0mcopy\u001b[0m\u001b[0;34m)\u001b[0m\u001b[0;34m\u001b[0m\u001b[0;34m\u001b[0m\u001b[0m\n\u001b[0m\u001b[1;32m    804\u001b[0m         \u001b[0;32mexcept\u001b[0m \u001b[0mzmq\u001b[0m\u001b[0;34m.\u001b[0m\u001b[0mZMQError\u001b[0m \u001b[0;32mas\u001b[0m \u001b[0me\u001b[0m\u001b[0;34m:\u001b[0m\u001b[0;34m\u001b[0m\u001b[0;34m\u001b[0m\u001b[0m\n",
            "\u001b[0;32m/usr/local/lib/python3.7/dist-packages/zmq/sugar/socket.py\u001b[0m in \u001b[0;36mrecv_multipart\u001b[0;34m(self, flags, copy, track)\u001b[0m\n\u001b[1;32m    582\u001b[0m         \"\"\"\n\u001b[0;32m--> 583\u001b[0;31m         \u001b[0mparts\u001b[0m \u001b[0;34m=\u001b[0m \u001b[0;34m[\u001b[0m\u001b[0mself\u001b[0m\u001b[0;34m.\u001b[0m\u001b[0mrecv\u001b[0m\u001b[0;34m(\u001b[0m\u001b[0mflags\u001b[0m\u001b[0;34m,\u001b[0m \u001b[0mcopy\u001b[0m\u001b[0;34m=\u001b[0m\u001b[0mcopy\u001b[0m\u001b[0;34m,\u001b[0m \u001b[0mtrack\u001b[0m\u001b[0;34m=\u001b[0m\u001b[0mtrack\u001b[0m\u001b[0;34m)\u001b[0m\u001b[0;34m]\u001b[0m\u001b[0;34m\u001b[0m\u001b[0;34m\u001b[0m\u001b[0m\n\u001b[0m\u001b[1;32m    584\u001b[0m         \u001b[0;31m# have first part already, only loop while more to receive\u001b[0m\u001b[0;34m\u001b[0m\u001b[0;34m\u001b[0m\u001b[0;34m\u001b[0m\u001b[0m\n",
            "\u001b[0;32mzmq/backend/cython/socket.pyx\u001b[0m in \u001b[0;36mzmq.backend.cython.socket.Socket.recv\u001b[0;34m()\u001b[0m\n",
            "\u001b[0;32mzmq/backend/cython/socket.pyx\u001b[0m in \u001b[0;36mzmq.backend.cython.socket.Socket.recv\u001b[0;34m()\u001b[0m\n",
            "\u001b[0;32mzmq/backend/cython/socket.pyx\u001b[0m in \u001b[0;36mzmq.backend.cython.socket._recv_copy\u001b[0;34m()\u001b[0m\n",
            "\u001b[0;32m/usr/local/lib/python3.7/dist-packages/zmq/backend/cython/checkrc.pxd\u001b[0m in \u001b[0;36mzmq.backend.cython.checkrc._check_rc\u001b[0;34m()\u001b[0m\n",
            "\u001b[0;31mKeyboardInterrupt\u001b[0m: ",
            "\nDuring handling of the above exception, another exception occurred:\n",
            "\u001b[0;31mKeyboardInterrupt\u001b[0m                         Traceback (most recent call last)",
            "\u001b[0;32m<ipython-input-18-4de2321c840e>\u001b[0m in \u001b[0;36m<module>\u001b[0;34m()\u001b[0m\n\u001b[1;32m      2\u001b[0m \u001b[0mprint\u001b[0m\u001b[0;34m(\u001b[0m\u001b[0;34m\"My name is Chatterbot and I'm a chatbot. If you want to exit, type Bye!\"\u001b[0m\u001b[0;34m)\u001b[0m\u001b[0;34m\u001b[0m\u001b[0;34m\u001b[0m\u001b[0m\n\u001b[1;32m      3\u001b[0m \u001b[0;32mwhile\u001b[0m\u001b[0;34m(\u001b[0m\u001b[0mflag\u001b[0m\u001b[0;34m==\u001b[0m\u001b[0;32mTrue\u001b[0m\u001b[0;34m)\u001b[0m\u001b[0;34m:\u001b[0m\u001b[0;34m\u001b[0m\u001b[0;34m\u001b[0m\u001b[0m\n\u001b[0;32m----> 4\u001b[0;31m     \u001b[0muser_response\u001b[0m \u001b[0;34m=\u001b[0m \u001b[0minput\u001b[0m\u001b[0;34m(\u001b[0m\u001b[0;34m)\u001b[0m\u001b[0;34m\u001b[0m\u001b[0;34m\u001b[0m\u001b[0m\n\u001b[0m\u001b[1;32m      5\u001b[0m     \u001b[0muser_response\u001b[0m\u001b[0;34m=\u001b[0m\u001b[0muser_response\u001b[0m\u001b[0;34m.\u001b[0m\u001b[0mlower\u001b[0m\u001b[0;34m(\u001b[0m\u001b[0;34m)\u001b[0m\u001b[0;34m\u001b[0m\u001b[0;34m\u001b[0m\u001b[0m\n\u001b[1;32m      6\u001b[0m     \u001b[0;32mif\u001b[0m\u001b[0;34m(\u001b[0m\u001b[0muser_response\u001b[0m \u001b[0;32mnot\u001b[0m \u001b[0;32min\u001b[0m \u001b[0;34m[\u001b[0m\u001b[0;34m'bye'\u001b[0m\u001b[0;34m,\u001b[0m\u001b[0;34m'shutdown'\u001b[0m\u001b[0;34m,\u001b[0m\u001b[0;34m'exit'\u001b[0m\u001b[0;34m,\u001b[0m \u001b[0;34m'quit'\u001b[0m\u001b[0;34m]\u001b[0m\u001b[0;34m)\u001b[0m\u001b[0;34m:\u001b[0m\u001b[0;34m\u001b[0m\u001b[0;34m\u001b[0m\u001b[0m\n",
            "\u001b[0;32m/usr/local/lib/python3.7/dist-packages/ipykernel/kernelbase.py\u001b[0m in \u001b[0;36mraw_input\u001b[0;34m(self, prompt)\u001b[0m\n\u001b[1;32m    702\u001b[0m             \u001b[0mself\u001b[0m\u001b[0;34m.\u001b[0m\u001b[0m_parent_ident\u001b[0m\u001b[0;34m,\u001b[0m\u001b[0;34m\u001b[0m\u001b[0;34m\u001b[0m\u001b[0m\n\u001b[1;32m    703\u001b[0m             \u001b[0mself\u001b[0m\u001b[0;34m.\u001b[0m\u001b[0m_parent_header\u001b[0m\u001b[0;34m,\u001b[0m\u001b[0;34m\u001b[0m\u001b[0;34m\u001b[0m\u001b[0m\n\u001b[0;32m--> 704\u001b[0;31m             \u001b[0mpassword\u001b[0m\u001b[0;34m=\u001b[0m\u001b[0;32mFalse\u001b[0m\u001b[0;34m,\u001b[0m\u001b[0;34m\u001b[0m\u001b[0;34m\u001b[0m\u001b[0m\n\u001b[0m\u001b[1;32m    705\u001b[0m         )\n\u001b[1;32m    706\u001b[0m \u001b[0;34m\u001b[0m\u001b[0m\n",
            "\u001b[0;32m/usr/local/lib/python3.7/dist-packages/ipykernel/kernelbase.py\u001b[0m in \u001b[0;36m_input_request\u001b[0;34m(self, prompt, ident, parent, password)\u001b[0m\n\u001b[1;32m    732\u001b[0m             \u001b[0;32mexcept\u001b[0m \u001b[0mKeyboardInterrupt\u001b[0m\u001b[0;34m:\u001b[0m\u001b[0;34m\u001b[0m\u001b[0;34m\u001b[0m\u001b[0m\n\u001b[1;32m    733\u001b[0m                 \u001b[0;31m# re-raise KeyboardInterrupt, to truncate traceback\u001b[0m\u001b[0;34m\u001b[0m\u001b[0;34m\u001b[0m\u001b[0;34m\u001b[0m\u001b[0m\n\u001b[0;32m--> 734\u001b[0;31m                 \u001b[0;32mraise\u001b[0m \u001b[0mKeyboardInterrupt\u001b[0m\u001b[0;34m\u001b[0m\u001b[0;34m\u001b[0m\u001b[0m\n\u001b[0m\u001b[1;32m    735\u001b[0m             \u001b[0;32melse\u001b[0m\u001b[0;34m:\u001b[0m\u001b[0;34m\u001b[0m\u001b[0;34m\u001b[0m\u001b[0m\n\u001b[1;32m    736\u001b[0m                 \u001b[0;32mbreak\u001b[0m\u001b[0;34m\u001b[0m\u001b[0;34m\u001b[0m\u001b[0m\n",
            "\u001b[0;31mKeyboardInterrupt\u001b[0m: "
          ]
        }
      ]
    }
  ]
}